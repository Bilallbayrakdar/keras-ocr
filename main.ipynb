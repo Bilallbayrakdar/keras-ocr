{
 "cells": [
  {
   "cell_type": "code",
   "execution_count": null,
   "metadata": {},
   "outputs": [],
   "source": [
    "# ## Install the library (I make it private repo so I think because of that I can't call git clone)\n",
    "# !rm -rf ./boat_downloader\n",
    "# !gdown 1sRm-gUKWYxo7B8UQOjttgPQUmav1NgJ3\n",
    "# !unzip boat_downloader.zip\n",
    "# !rm -rf __MACOSX/\n",
    "\n",
    "# ## Run the code\n",
    "# %cd ./boat_downloader\n",
    "# !python boat.py --download 1"
   ]
  },
  {
   "cell_type": "code",
   "execution_count": null,
   "metadata": {},
   "outputs": [],
   "source": [
    "from ssl import get_server_certificate\n",
    "import cv2 as cv\n",
    "import os\n",
    "from PIL import Image\n",
    "from matplotlib import pyplot as plt\n",
    "from torchvision import transforms\n",
    "from torch.utils.data import Dataset, DataLoader\n",
    "from keras_ocr import detection,recognition\n",
    "\n",
    "import numpy as np\n",
    "from pprint import pprint\n",
    "\n",
    "\n",
    "\n",
    "train_images = \"./boat_downloader/datasets/boats/train_images\"\n",
    "train_gts = \"./boat_downloader/datasets/boats/train_gts\"\n",
    "\n",
    "test_images = \"./boat_downloader/datasets/boats/test_images\"\n",
    "test_gts = \"./boat_downloader/datasets/boats/test_gts\"\n",
    "\n",
    "\n",
    "class BoatTrain(Dataset):\n",
    "    def __init__(self, images_path, gts_path):\n",
    "        self.images = [cv.imread(img) for img in sorted([f\"{images_path}/{name}\" for name in os.listdir(images_path)])]\n",
    "        gts_raw = [open(img,'r').read().split('\\n')[:-1] for img in sorted([f\"{gts_path}/{name}\" for name in os.listdir(gts_path)])]\n",
    "        self.gts = []\n",
    "\n",
    "        for gt in gts_raw:\n",
    "            entity = []\n",
    "            for row in gt:\n",
    "                cors = [int(cor) for cor in row.split(',')[:-1]]\n",
    "                label = row.split(',')[-1]\n",
    "                entity.append([cors,label])\n",
    "            self.gts.append(entity)\n",
    "\n",
    "        self.transform = transforms.Compose([\n",
    "            transforms.ToTensor(),\n",
    "            transforms.Normalize(mean=[0.485, 0.456, 0.406], std=[0.229, 0.224, 0.225])\n",
    "        ])\n",
    "\n",
    "    def __len__(self):\n",
    "        return len(self.images)\n",
    "\n",
    "    def __getitem__(self, idx):\n",
    "        image = self.images[idx]\n",
    "        if self.transform:\n",
    "            image = self.transform(image)\n",
    "            gt = self.gts[idx]\n",
    "        return image,gt\n",
    "\n",
    "class BoatTest(Dataset):\n",
    "    def __init__(self, images_path):\n",
    "        self.images = [cv.imread(img) for img in sorted([f\"{images_path}/{name}\" for name in os.listdir(images_path)])]\n",
    "        self.transform = transforms.Compose([\n",
    "            transforms.ToTensor(),\n",
    "            # transforms.Normalize(mean=[0.485, 0.456, 0.406], std=[0.229, 0.224, 0.225])\n",
    "        ])\n",
    "\n",
    "    def __len__(self):\n",
    "        return len(self.images)\n",
    "\n",
    "    def __getitem__(self, idx):\n",
    "        image = self.images[idx]\n",
    "        if self.transform:\n",
    "            image = self.transform(image)\n",
    "        return image\n",
    "\n",
    "\n",
    "torch_detector = detection.Detector()\n",
    "recognizer = recognition.Recognizer()\n",
    "\n",
    "test_data = BoatTest(test_images)\n",
    "test_dataloader = DataLoader(test_data, batch_size=1, shuffle=True)\n",
    "\n",
    "# train_data = BoatTrain(train_images, train_gts)\n",
    "# train_dataloader = DataLoader(train_data, batch_size=1, shuffle=True)\n",
    "\n",
    "## Loop for recognition pipeline\n",
    "## ---------------------------------------------------------------------------------------------------------------------\n",
    "detections = []\n",
    "predictions = []\n",
    "for samples in test_dataloader:\n",
    "    images = [(np.moveaxis(sample.cpu().numpy(), [0,1,2], [-1,0,1])*255).astype(np.uint8) for sample in samples]\n",
    "    # print(type(x[0]))\n",
    "    # print(x[0].shape)\n",
    "    # plt.imshow(cv.cvtColor(x[0], cv.COLOR_BGR2RGB))\n",
    "    # plt.show()\n",
    "    # break\n",
    "\n",
    "    detection = torch_detector.detect(samples)\n",
    "    detections.append(detection)\n",
    "    if len(detection) >0: \n",
    "        prediction = recognizer.recognize_from_boxes(images, detection)\n",
    "        predictions.append(prediction)\n",
    "    else:\n",
    "        predictions.append([])\n",
    "## ---------------------------------------------------------------------------------------------------------------------\n",
    "\n",
    "    "
   ]
  },
  {
   "cell_type": "code",
   "execution_count": 10,
   "metadata": {},
   "outputs": [
    {
     "data": {
      "text/plain": [
       "numpy.ndarray"
      ]
     },
     "execution_count": 10,
     "metadata": {},
     "output_type": "execute_result"
    }
   ],
   "source": [
    "type(detections[0][0])"
   ]
  },
  {
   "cell_type": "code",
   "execution_count": 3,
   "metadata": {},
   "outputs": [
    {
     "data": {
      "text/plain": [
       "[[['orda', 'polisi', 'deniz']],\n",
       " [['alova', 'marina']],\n",
       " [['setur', 'guanawd', 'alova', 'marina']],\n",
       " [['nicersmen']],\n",
       " [['oyamans', 'setur', 'alova', 'marina']],\n",
       " [['wn']],\n",
       " [['ke']],\n",
       " [['sillaa', 'setur', 'yalova', 'marina']],\n",
       " [['crman',\n",
       "   'tari',\n",
       "   've',\n",
       "   'caaig',\n",
       "   'mooorlogo',\n",
       "   'yalov',\n",
       "   'l',\n",
       "   'kontrol',\n",
       "   'cronler',\n",
       "   'taona']],\n",
       " [['ss', 'ss', 's']],\n",
       " [['nesgon']],\n",
       " [['tosunl', 'ylova']],\n",
       " [['herca']],\n",
       " [['buyukde', 'duzgit']],\n",
       " [['yalona', 'esa']],\n",
       " [[]],\n",
       " [['hion', 'oa', 'sahil', 'guvenlik', 'tcsg', '85']],\n",
       " [['tarfattaxi', 'vixa', 'boat']],\n",
       " [['baane']],\n",
       " [['celon']],\n",
       " [['melisz']]]"
      ]
     },
     "execution_count": 3,
     "metadata": {},
     "output_type": "execute_result"
    }
   ],
   "source": [
    "predictions"
   ]
  },
  {
   "cell_type": "code",
   "execution_count": null,
   "metadata": {},
   "outputs": [],
   "source": []
  }
 ],
 "metadata": {
  "kernelspec": {
   "display_name": "Python 3.8.13 ('toch_ocr')",
   "language": "python",
   "name": "python3"
  },
  "language_info": {
   "codemirror_mode": {
    "name": "ipython",
    "version": 3
   },
   "file_extension": ".py",
   "mimetype": "text/x-python",
   "name": "python",
   "nbconvert_exporter": "python",
   "pygments_lexer": "ipython3",
   "version": "3.8.13"
  },
  "orig_nbformat": 4,
  "vscode": {
   "interpreter": {
    "hash": "ee15291798b789b54e3f3ee6f38a61eff0438a4a54ab894183679180e0b9c070"
   }
  }
 },
 "nbformat": 4,
 "nbformat_minor": 2
}
